{
 "cells": [
  {
   "cell_type": "code",
   "execution_count": 10,
   "id": "8ea1da16-06a4-4645-92f8-14617365c1f2",
   "metadata": {},
   "outputs": [],
   "source": [
    "import openpyxl as excel\n",
    "import pathlib\n",
    "import shutil\n",
    "import pandas as pd\n"
   ]
  },
  {
   "cell_type": "code",
   "execution_count": null,
   "id": "4bcf7cd9-5557-4c74-8535-5d50603ac4e4",
   "metadata": {},
   "outputs": [],
   "source": [
    "goods = {}\n",
    "work_dir = pathlib.Path()\n",
    "if list(work_dir.glob('~$*.xls*')):\n",
    "    for i in list(work_dir.glob('~$*.xls*')):\n",
    "        i.unlink()\n",
    "try: input_file = list(work_dir.glob('*.xlsm'))[0]\n",
    "except: raise FileExistsError('Исходный файл не найден')\n",
    "try: temp_output_file = list(work_dir.glob('*.xlsx'))[0]\n",
    "except: raise FileExistsError('Файл для записи не найден')\n",
    "if '_done' in temp_output_file.stem:\n",
    "    output_file = temp_output_file.with_stem(str(temp_output_file).replace('_done', '')).with_suffix('')\n",
    "    try: shutil.copy2(temp_output_file, output_file)\n",
    "    except: raise ValueError('Копирование невозможно')\n",
    "else:\n",
    "    output_file = temp_output_file.stem + '_done' + temp_output_file.suffix\n",
    "    try: shutil.copy2(temp_output_file, output_file)\n",
    "    except: raise ValueError('Копирование невозможно')\n",
    "wb = excel.load_workbook(filename=input_file, read_only = True, data_only = True)\n",
    "ws = wb[\"Расчёт По Оперкому\"]\n"
   ]
  },
  {
   "cell_type": "code",
   "execution_count": 3,
   "id": "c608fc28-f02a-45f9-90be-989925fb3f8f",
   "metadata": {},
   "outputs": [
    {
     "data": {
      "text/plain": [
       "('CLB.5', 394, 87.7160152284264, 34561.68000000016)"
      ]
     },
     "execution_count": 3,
     "metadata": {},
     "output_type": "execute_result"
    }
   ],
   "source": [
    "ws.cell(row = 6, column = 2).value, ws.cell(row = 6, column = 14).value, ws.cell(row = 6, column = 13).value, ws.cell(row = 6, column = 15).value"
   ]
  },
  {
   "cell_type": "code",
   "execution_count": 4,
   "id": "e8051059-2053-4d75-895c-8ae741a7c1e6",
   "metadata": {},
   "outputs": [],
   "source": [
    "def row_counts(worksheet, min_row):\n",
    "    counter = min_row\n",
    "    while True:\n",
    "        if worksheet['B' + str(counter)].value:\n",
    "            counter += 1\n",
    "        else:\n",
    "            #counter -= 1\n",
    "            break\n",
    "    return counter\n"
   ]
  },
  {
   "cell_type": "code",
   "execution_count": 5,
   "id": "15047d6f-4aad-4f87-a0c3-7134df483eff",
   "metadata": {},
   "outputs": [
    {
     "name": "stdout",
     "output_type": "stream",
     "text": [
      "{'CLB.5': {'op': 394, 'cena': 87.7160152284264, 'stoim': 34561.68000000016}, 'CLB.6': {'op': 1, 'cena': 25989.93, 'stoim': 25989.93}, 'CLB.20': {'op': 184, 'cena': 93.56375, 'stoim': 17215.039999999983}, 'COM.1': {'op': 395, 'cena': 93.56374683544304, 'stoim': 36956.2000000001}, 'COM.2': {'op': 358, 'cena': 346.532374301676, 'stoim': 124057.73999999966}, 'COM.4': {'op': 0, 'cena': 0, 'stoim': 106039.2}, 3: {'op': 1, 'cena': 1328.79, 'stoim': 1328.79}, 'COM.12': {'op': 0, 'cena': 0, 'stoim': 168798.23}, 1: {'op': 5, 'cena': 1058.162, 'stoim': 5290.8}, 4: {'op': 5, 'cena': 1058.162, 'stoim': 5290.8}, 5: {'op': 30, 'cena': 4678.187333333333, 'stoim': 140345.70000000004}, 6: {'op': 28, 'cena': 5613.825, 'stoim': 157186.9600000001}, 7: {'op': 5, 'cena': 1058.162, 'stoim': 5290.8}, 8: {'op': 5, 'cena': 178.486, 'stoim': 892.45}, 'COM.16': {'op': 75, 'cena': 369.5768, 'stoim': 27718.5}, 'COM.21': {'op': 24, 'cena': 4330.442083333333, 'stoim': 103930.56000000003}, 'COM.44': {'op': 0, 'cena': 0, 'stoim': 38352.2}, 2: {'op': 12, 'cena': 7017.280833333333, 'stoim': 84207.36}, 'GEN.10': {'op': 0, 'cena': 0, 'stoim': 509868.43}, 'Разовые_услуги': {'op': 1, 'cena': 0, 'stoim': 500000}, 'ISS.15': {'op': 0, 'cena': 0, 'stoim': 60629.27}, 'LBA.11': {'op': 10, 'cena': 5997.67, 'stoim': 59976.69999999999}, 'LBA.61': {'op': 7, 'cena': 13898.671428571428, 'stoim': 97290.70000000001}, 'OPR.1': {'op': 22, 'cena': 3118.791818181818, 'stoim': 68613.38}, 'OPR.2': {'op': 0, 'cena': 0, 'stoim': 129256.59999999983}, 'OPR.4': {'op': 0, 'cena': 0, 'stoim': 67573.95999999999}, 'OPR.5': {'op': 1, 'cena': 14176.33, 'stoim': 14176.33}, 'OPR.6': {'op': 3, 'cena': 14176.326666666668, 'stoim': 42528.99}, 'OPR.9': {'op': 298, 'cena': 567.0530872483222, 'stoim': 168980.89999999997}, 'OPR.11': {'op': 0, 'cena': 0, 'stoim': 409809.14000000036}, 'OPR.12': {'op': 310, 'cena': 181.22270967741935, 'stoim': 56179.509999999784}, 'WST.1': {'op': 0, 'cena': 0, 'stoim': 49759.38000000002}, 'WST.2': {'op': 0, 'cena': 0, 'stoim': 552129.4799999966}, 'WST.3': {'op': 383, 'cena': 342.9938120104439, 'stoim': 131366.28000000046}, 'WST.4': {'op': 0, 'cena': 0, 'stoim': 79140.69000000003}, 11: {'op': 2, 'cena': 31187.915, 'stoim': 62375.84}, 'WST.5': {'op': 1048, 'cena': 233.90937022900764, 'stoim': 245137.68000000314}, None: {'op': None, 'cena': None, 'stoim': 0}}\n"
     ]
    }
   ],
   "source": [
    "for row in ws.iter_rows(min_row = 6, max_row = row_counts(ws, 6), min_col = 2, max_col = 15, values_only=True):\n",
    "#    op_ec = int(row[12])\n",
    "    goods_id = row[0]\n",
    "#    if isinstance(goods_id, int):\n",
    "#        continue\n",
    "#    if op_ec == 0:\n",
    "#        op_ec = None\n",
    "       \n",
    "    good = {'op': row[12], 'cena': row[11], 'stoim':row[13]}\n",
    "    goods[goods_id] = good\n",
    "\n",
    "print(goods)    "
   ]
  },
  {
   "cell_type": "code",
   "execution_count": 6,
   "id": "aaf73ab3-90ca-4ba8-b0af-9f2524faeaa7",
   "metadata": {},
   "outputs": [],
   "source": [
    "for i in range(6, row_counts(ws, 6)):\n",
    "    goods_id = ws['B' + str(i)].value\n",
    "    good = {'op': ws['N' + str(i)].value, 'cena': ws['M' + str(i)].value, 'stoim':ws['O' + str(i)].value}\n",
    "    if goods_id in ['WST.1', 'WST.2']:\n",
    "        good = {'op': ws['N' + str(i+1)].value, 'cena': ws['M' + str(i+1)].value, 'stoim':ws['O' + str(i+1)].value}\n",
    "    if good['op'] == 0:\n",
    "        good['op'] = None\n",
    "    goods[goods_id] = good\n"
   ]
  },
  {
   "cell_type": "code",
   "execution_count": 7,
   "id": "9a338cd8-941c-47af-9a73-5495cb74bc80",
   "metadata": {},
   "outputs": [],
   "source": [
    "wb1 = excel.load_workbook(filename = output_file)\n",
    "ws1 = wb1[\"ИТ\"]\n",
    "ws2 = wb1[\"Составляющие\"]"
   ]
  },
  {
   "cell_type": "code",
   "execution_count": 8,
   "id": "70d0b159-9ec7-43e5-ae16-5a016d4e36ad",
   "metadata": {},
   "outputs": [
    {
     "name": "stdout",
     "output_type": "stream",
     "text": [
      "CLB.5 None None None\n",
      "CLB.6 None None None\n",
      "CLB.20 None None None\n",
      "COM.1 None None None\n",
      "COM.2 None None None\n",
      "COM.4 None None None\n",
      "COM.12 None None None\n",
      "COM.16 None None None\n",
      "COM.21 None None None\n",
      "GEN.10 None None None\n",
      "Разовые_услуги None None None\n",
      "LBA.11 None None None\n",
      "LBA.61 None None None\n",
      "OPR.1 None None None\n",
      "OPR.2 None None None\n",
      "ISS.15 None None None\n",
      "OPR.4 None None None\n",
      "OPR.5 None None None\n",
      "OPR.6 None None None\n",
      "OPR.9 None None None\n",
      "OPR.11 None None None\n",
      "OPR.12 None None None\n",
      "WST.1 None None None\n",
      "WST.2 None None None\n",
      "WST.3 None None None\n",
      "WST.4 None None None\n",
      "WST.5 None None None\n",
      "COM.44 None None None\n"
     ]
    }
   ],
   "source": [
    "for i in range(2, row_counts(ws1, 2)):\n",
    "    print(ws1['G' + str(i)].value, ws1['K' + str(i)].value, ws1['O' + str(i)].value, ws1['R' + str(i)].value)"
   ]
  },
  {
   "cell_type": "code",
   "execution_count": 9,
   "id": "9e0fa3d6-a52e-4fa1-9409-25762f19edb5",
   "metadata": {},
   "outputs": [],
   "source": [
    "\n",
    "#for row in ws1.iter_rows(min_row = 2, max_row = row_counts(ws1, 2), min_col = 7, max_col = 18, values_only=True):\n",
    "for i in range(2, row_counts(ws1, 2)):\n",
    "    for key in goods.keys():\n",
    "        if ws1['G' + str(i)].value == key:\n",
    "            ws1['K' + str(i)].value = goods[key]['op']\n",
    "            ws1['O' + str(i)].value = goods[key]['cena']\n",
    "            ws1['R' + str(i)].value = goods[key]['stoim']\n",
    "    #good = {'op': row[4], 'cena': row[8], 'stoim':row[11]}\n",
    "    #goods1[goods_id] = good\n",
    "wb1.save(filename = output_file)\n"
   ]
  },
  {
   "cell_type": "code",
   "execution_count": 10,
   "id": "11a77d2b-a24a-4c51-bd1b-999714202928",
   "metadata": {},
   "outputs": [
    {
     "name": "stdout",
     "output_type": "stream",
     "text": [
      "                2             13      14         15\n",
      "0            CLB.5     87.716015   394.0   34561.68\n",
      "1            CLB.6  25989.930000     1.0   25989.93\n",
      "2           CLB.20     93.563750   184.0   17215.04\n",
      "3            COM.1     93.563747   395.0   36956.20\n",
      "4            COM.2    346.532374   358.0  124057.74\n",
      "5            COM.4      0.000000     0.0  106039.20\n",
      "6                3    207.919392   510.0  106039.20\n",
      "7           COM.12      0.000000     0.0  168798.23\n",
      "8                1    599.767500     4.0    2399.08\n",
      "9                3    820.733333     3.0    2462.19\n",
      "10               4   1039.597188    64.0   66534.40\n",
      "11               5   1199.535556     9.0   10795.86\n",
      "12               6   1559.395833    12.0   18712.80\n",
      "13               7   1039.597292    48.0   49900.80\n",
      "14               8   1199.535333    15.0   17993.10\n",
      "15          COM.16    369.576800    75.0   27718.50\n",
      "16          COM.21   4330.442083    24.0  103930.56\n",
      "17          COM.44      0.000000     0.0   38352.20\n",
      "18               2  38352.200000     1.0   38352.20\n",
      "19          GEN.10      0.000000     0.0  509868.43\n",
      "20               1    254.483882  1950.0  496236.00\n",
      "21               2  24607.260000     0.5   12303.64\n",
      "22               3   1328.790000     1.0    1328.79\n",
      "23  Разовые_услуги      0.000000     1.0  500000.00\n",
      "24          ISS.15      0.000000     0.0   60629.27\n",
      "25               1    103.553545   536.0   55502.80\n",
      "26               2    222.889565    23.0    5126.47\n",
      "27          LBA.11   5997.670000    10.0   59976.70\n",
      "28          LBA.61  13898.671429     7.0   97290.70\n",
      "29           OPR.1   3118.791818    22.0   68613.38\n",
      "30           OPR.2      0.000000     0.0  129256.60\n",
      "31               1   1175.059818   110.0  129256.60\n",
      "32           OPR.4      0.000000     0.0   67573.96\n",
      "33               1    103.959780   500.0   51980.00\n",
      "34               2  15593.960000     1.0   15593.96\n",
      "35           OPR.5  14176.330000     1.0   14176.33\n",
      "36           OPR.6  14176.326667     3.0   42528.99\n",
      "37           OPR.9    567.053087   298.0  168980.90\n",
      "38          OPR.11      0.000000     0.0  409809.14\n",
      "39               2   7017.280833    12.0   84207.36\n",
      "40               5   4678.187333    30.0  140345.70\n",
      "41               6   5613.825000    28.0  157186.96\n",
      "42               8  28069.120000     1.0   28069.12\n",
      "43          OPR.12    181.222710   310.0   56179.51\n",
      "44           WST.1      0.000000     0.0   49759.38\n",
      "45               1   2764.408333    18.0   49759.38\n",
      "46           WST.2      0.000000     0.0  552129.48\n",
      "47               1    873.620934   632.0  552129.48\n",
      "48           WST.3    342.993812   383.0  131366.28\n",
      "49           WST.4      0.000000     0.0   79140.69\n",
      "50               1   1058.162000     5.0    5290.80\n",
      "51               4   1058.162000     5.0    5290.80\n",
      "52               7   1058.162000     5.0    5290.80\n",
      "53               8    178.486000     5.0     892.45\n",
      "54              11  31187.915000     2.0   62375.84\n",
      "55           WST.5    233.909370  1048.0  245137.68\n",
      "56             NaN           NaN     NaN       0.00\n",
      "57             NaN           NaN     NaN       0.00\n",
      "58             NaN           NaN     NaN       0.00\n",
      "59             NaN           NaN     NaN       0.00\n",
      "60             NaN           NaN     NaN       0.00\n",
      "61             NaN           NaN     NaN       0.00\n"
     ]
    }
   ],
   "source": [
    "pd.set_option('display.max_rows', None)\n",
    "df = pd.read_excel(input_file, sheet_name = \"Расчёт По Оперкому\", nrows=row_counts(ws, 4), skiprows = 4, usecols = 'B, N, M, O', engine = 'openpyxl')\n",
    "#df[df[2].map(lambda x: isinstance(x, int))]\n",
    "print(df)\n"
   ]
  },
  {
   "cell_type": "code",
   "execution_count": 11,
   "id": "e430eeaa-3dad-427c-827e-c76209a9325e",
   "metadata": {},
   "outputs": [],
   "source": [
    "goods_key = []\n",
    "goods_list = []\n",
    "goods_json = {}\n",
    "json_value = {}\n",
    "usluga_sostav = {'COM.4' : 1, 'COM.12' : 7, 'GEN.10' : 3, 'ISS.15' : 2, 'OPR.2' : 1, \n",
    "                 'OPR.4' : 2, 'OPR.11' : 4, 'WST.4' : 5, 'WST.1' : 1,  'WST.2' : 1, \n",
    "                 'COM.44' : 1}\n",
    "def final_json(usluga, n):\n",
    "    if goods_key[i]['gid'] == usluga:\n",
    "        json_value = {}\n",
    "        for j in range(1, n+1):\n",
    "            json_value[goods_key[i + j]['gid']] = goods_key[i + j]['op']\n",
    "        goods_json[goods_key[i]['gid']] = json_value\n",
    "for i in range(6, row_counts(ws, 6)):\n",
    "    goods_id = ws['B' + str(i)].value\n",
    "    if goods_id:\n",
    "        goods_key.append({'gid': goods_id, 'op': ws['N' + str(i)].value})\n",
    "for i in range(len(goods_key)):\n",
    "    if goods_key[i]['op'] == 0 and goods_key[i]['gid'] not in ('WST.1',  'WST.2', 'COM.44'):\n",
    "        goods_list.append(goods_key[i]['gid'])\n",
    "for i in range(len(goods_key)):\n",
    "    if goods_key[i]['gid'] in goods_list:\n",
    "        final_json('COM.4', 1)\n",
    "        final_json('COM.12', 7)\n",
    "        final_json('GEN.10', 3)\n",
    "        final_json('ISS.15', 2)\n",
    "        final_json('OPR.2', 1)\n",
    "        final_json('OPR.4', 2)\n",
    "        final_json('OPR.11', 4)\n",
    "        final_json('WST.4', 5)\n"
   ]
  },
  {
   "cell_type": "code",
   "execution_count": 12,
   "id": "83533dc8-c41f-4017-be2b-78e5d1cc0528",
   "metadata": {},
   "outputs": [],
   "source": [
    "for i in range(2, row_counts(ws2, 2)):\n",
    "    #print(ws2['B' + str(i)].value, ws2['D' + str(i)].value, ws2['I' + str(i)].value)\n",
    "    for key in goods_json.keys():\n",
    "        if ws2['D' + str(i)].value == key:\n",
    "            for sub_key in goods_json[key]:\n",
    "                if ws2['B' + str(i)].value == sub_key:\n",
    "                    ws2['I' + str(i)].value = goods_json[key][sub_key]\n",
    "                    \n",
    "\n",
    "wb1.save(filename = output_file)\n"
   ]
  },
  {
   "cell_type": "code",
   "execution_count": 13,
   "id": "722f60d5-1776-442d-8416-d04fc545562d",
   "metadata": {},
   "outputs": [],
   "source": [
    "wb1.close()"
   ]
  },
  {
   "cell_type": "code",
   "execution_count": null,
   "id": "3519e577-1105-42c5-9104-644780870e5a",
   "metadata": {},
   "outputs": [],
   "source": []
  }
 ],
 "metadata": {
  "gist_info": {
   "create_date": "2024-02-02T20:47:23Z",
   "gist_id": "4def268df901a8c061956f54e56c2b6e",
   "gist_url": "https://gist.github.com/jackfs1919/4def268df901a8c061956f54e56c2b6e"
  },
  "kernelspec": {
   "display_name": "Python 3 (ipykernel)",
   "language": "python",
   "name": "python3"
  },
  "language_info": {
   "codemirror_mode": {
    "name": "ipython",
    "version": 3
   },
   "file_extension": ".py",
   "mimetype": "text/x-python",
   "name": "python",
   "nbconvert_exporter": "python",
   "pygments_lexer": "ipython3",
   "version": "3.12.1"
  }
 },
 "nbformat": 4,
 "nbformat_minor": 5
}
